{
 "cells": [
  {
   "cell_type": "markdown",
   "id": "2f820ef4",
   "metadata": {},
   "source": [
    "# 1. Understanding the dataset"
   ]
  },
  {
   "cell_type": "markdown",
   "id": "8b76c662",
   "metadata": {},
   "source": [
    "### Importing the nescessary libraries"
   ]
  },
  {
   "cell_type": "code",
   "execution_count": 81,
   "id": "70c793bc",
   "metadata": {},
   "outputs": [
    {
     "data": {
      "text/html": [
       "        <script type=\"text/javascript\">\n",
       "        window.PlotlyConfig = {MathJaxConfig: 'local'};\n",
       "        if (window.MathJax) {MathJax.Hub.Config({SVG: {font: \"STIX-Web\"}});}\n",
       "        if (typeof require !== 'undefined') {\n",
       "        require.undef(\"plotly\");\n",
       "        requirejs.config({\n",
       "            paths: {\n",
       "                'plotly': ['https://cdn.plot.ly/plotly-2.11.1.min']\n",
       "            }\n",
       "        });\n",
       "        require(['plotly'], function(Plotly) {\n",
       "            window._Plotly = Plotly;\n",
       "        });\n",
       "        }\n",
       "        </script>\n",
       "        "
      ]
     },
     "metadata": {},
     "output_type": "display_data"
    }
   ],
   "source": [
    "import pandas as pd\n",
    "import numpy as np\n",
    "import seaborn as sns\n",
    "import matplotlib as plt\n",
    "import matplotlib.pyplot as plt\n",
    "%matplotlib inline\n",
    "from plotly import __version__\n",
    "from plotly.offline import download_plotlyjs, init_notebook_mode, plot, iplot\n",
    "from sklearn.model_selection import train_test_split\n",
    "from imblearn.over_sampling import SMOTE\n",
    "import cufflinks as cf\n",
    "cf.go_offline()\n",
    "cf.set_config_file(offline=False, world_readable=True)\n",
    "from sklearn.metrics import confusion_matrix\n",
    "from sklearn.metrics import classification_report\n",
    "from sklearn.tree import DecisionTreeClassifier\n",
    "from sklearn.svm import SVC\n",
    "from sklearn.linear_model import LogisticRegression\n",
    "from sklearn.metrics import accuracy_score\n",
    "from sklearn.ensemble import RandomForestClassifier\n",
    "from sklearn.naive_bayes import CategoricalNB\n",
    "from sklearn.naive_bayes import GaussianNB\n",
    "from sklearn.neighbors import KNeighborsClassifier"
   ]
  },
  {
   "cell_type": "markdown",
   "id": "56afb452",
   "metadata": {},
   "source": [
    "### Reading the dataset"
   ]
  },
  {
   "cell_type": "code",
   "execution_count": 82,
   "id": "e69c2bbc",
   "metadata": {},
   "outputs": [
    {
     "data": {
      "text/html": [
       "<div>\n",
       "<style scoped>\n",
       "    .dataframe tbody tr th:only-of-type {\n",
       "        vertical-align: middle;\n",
       "    }\n",
       "\n",
       "    .dataframe tbody tr th {\n",
       "        vertical-align: top;\n",
       "    }\n",
       "\n",
       "    .dataframe thead th {\n",
       "        text-align: right;\n",
       "    }\n",
       "</style>\n",
       "<table border=\"1\" class=\"dataframe\">\n",
       "  <thead>\n",
       "    <tr style=\"text-align: right;\">\n",
       "      <th></th>\n",
       "      <th>Age</th>\n",
       "      <th>Sex</th>\n",
       "      <th>BP</th>\n",
       "      <th>Cholesterol</th>\n",
       "      <th>Na_to_K</th>\n",
       "      <th>Drug</th>\n",
       "    </tr>\n",
       "  </thead>\n",
       "  <tbody>\n",
       "    <tr>\n",
       "      <th>0</th>\n",
       "      <td>23</td>\n",
       "      <td>F</td>\n",
       "      <td>HIGH</td>\n",
       "      <td>HIGH</td>\n",
       "      <td>25.355</td>\n",
       "      <td>DrugY</td>\n",
       "    </tr>\n",
       "    <tr>\n",
       "      <th>1</th>\n",
       "      <td>47</td>\n",
       "      <td>M</td>\n",
       "      <td>LOW</td>\n",
       "      <td>HIGH</td>\n",
       "      <td>13.093</td>\n",
       "      <td>drugC</td>\n",
       "    </tr>\n",
       "    <tr>\n",
       "      <th>2</th>\n",
       "      <td>47</td>\n",
       "      <td>M</td>\n",
       "      <td>LOW</td>\n",
       "      <td>HIGH</td>\n",
       "      <td>10.114</td>\n",
       "      <td>drugC</td>\n",
       "    </tr>\n",
       "    <tr>\n",
       "      <th>3</th>\n",
       "      <td>28</td>\n",
       "      <td>F</td>\n",
       "      <td>NORMAL</td>\n",
       "      <td>HIGH</td>\n",
       "      <td>7.798</td>\n",
       "      <td>drugX</td>\n",
       "    </tr>\n",
       "    <tr>\n",
       "      <th>4</th>\n",
       "      <td>61</td>\n",
       "      <td>F</td>\n",
       "      <td>LOW</td>\n",
       "      <td>HIGH</td>\n",
       "      <td>18.043</td>\n",
       "      <td>DrugY</td>\n",
       "    </tr>\n",
       "  </tbody>\n",
       "</table>\n",
       "</div>"
      ],
      "text/plain": [
       "   Age Sex      BP Cholesterol  Na_to_K   Drug\n",
       "0   23   F    HIGH        HIGH   25.355  DrugY\n",
       "1   47   M     LOW        HIGH   13.093  drugC\n",
       "2   47   M     LOW        HIGH   10.114  drugC\n",
       "3   28   F  NORMAL        HIGH    7.798  drugX\n",
       "4   61   F     LOW        HIGH   18.043  DrugY"
      ]
     },
     "execution_count": 82,
     "metadata": {},
     "output_type": "execute_result"
    }
   ],
   "source": [
    "df = pd.read_csv(\"drug.csv\")\n",
    "df.head()"
   ]
  },
  {
   "cell_type": "code",
   "execution_count": 83,
   "id": "5ef8bd6f",
   "metadata": {},
   "outputs": [],
   "source": [
    "#profile = pp.ProfileReport(df)\n",
    "#profile.to_file(\"output.html\")"
   ]
  },
  {
   "cell_type": "markdown",
   "id": "52de9463",
   "metadata": {},
   "source": [
    "### Number of rows and columns in the dataset"
   ]
  },
  {
   "cell_type": "code",
   "execution_count": 84,
   "id": "514d55e5",
   "metadata": {},
   "outputs": [
    {
     "data": {
      "text/plain": [
       "(200, 6)"
      ]
     },
     "execution_count": 84,
     "metadata": {},
     "output_type": "execute_result"
    }
   ],
   "source": [
    "df.shape"
   ]
  },
  {
   "cell_type": "markdown",
   "id": "6f39cc86",
   "metadata": {},
   "source": [
    "### Info of columns in the dataset"
   ]
  },
  {
   "cell_type": "code",
   "execution_count": 85,
   "id": "43e84d1c",
   "metadata": {},
   "outputs": [
    {
     "name": "stdout",
     "output_type": "stream",
     "text": [
      "<class 'pandas.core.frame.DataFrame'>\n",
      "RangeIndex: 200 entries, 0 to 199\n",
      "Data columns (total 6 columns):\n",
      " #   Column       Non-Null Count  Dtype  \n",
      "---  ------       --------------  -----  \n",
      " 0   Age          200 non-null    int64  \n",
      " 1   Sex          200 non-null    object \n",
      " 2   BP           200 non-null    object \n",
      " 3   Cholesterol  200 non-null    object \n",
      " 4   Na_to_K      200 non-null    float64\n",
      " 5   Drug         200 non-null    object \n",
      "dtypes: float64(1), int64(1), object(4)\n",
      "memory usage: 9.5+ KB\n"
     ]
    }
   ],
   "source": [
    "df.info()"
   ]
  },
  {
   "cell_type": "markdown",
   "id": "9b8a6cbe",
   "metadata": {},
   "source": [
    "### Check for null values"
   ]
  },
  {
   "cell_type": "code",
   "execution_count": 86,
   "id": "c45feceb",
   "metadata": {},
   "outputs": [
    {
     "data": {
      "text/plain": [
       "Age            0\n",
       "Sex            0\n",
       "BP             0\n",
       "Cholesterol    0\n",
       "Na_to_K        0\n",
       "Drug           0\n",
       "dtype: int64"
      ]
     },
     "execution_count": 86,
     "metadata": {},
     "output_type": "execute_result"
    }
   ],
   "source": [
    "df.isnull().sum()"
   ]
  },
  {
   "cell_type": "markdown",
   "id": "5c587fc8",
   "metadata": {},
   "source": [
    "# 2. Data Exploration"
   ]
  },
  {
   "cell_type": "markdown",
   "id": "ca378f30",
   "metadata": {},
   "source": [
    "1. Numerical columns=2\n",
    "2. Categorical columns=4"
   ]
  },
  {
   "cell_type": "markdown",
   "id": "7bbd42b7",
   "metadata": {},
   "source": [
    "### Unique values in each column"
   ]
  },
  {
   "cell_type": "markdown",
   "id": "59aa5b4f",
   "metadata": {},
   "source": [
    "### 1. Age"
   ]
  },
  {
   "cell_type": "code",
   "execution_count": 87,
   "id": "c9cdc6b5",
   "metadata": {},
   "outputs": [
    {
     "name": "stdout",
     "output_type": "stream",
     "text": [
      "Number of Unique elements in Age column:  57\n",
      "Maximum Age:  74\n",
      "Minimum Age:  15\n",
      "\n",
      "Unique elements : \n",
      " [23 47 28 61 22 49 41 60 43 34 74 50 16 69 32 57 63 48 33 31 39 45 18 65\n",
      " 53 46 15 73 58 66 37 68 67 62 24 26 40 38 29 17 54 70 36 19 64 59 51 42\n",
      " 56 20 72 35 52 55 30 21 25]\n"
     ]
    }
   ],
   "source": [
    "print(\"Number of Unique elements in Age column: \", df[\"Age\"].nunique())\n",
    "print(\"Maximum Age: \", max(df[\"Age\"]))\n",
    "print(\"Minimum Age: \", min(df[\"Age\"]))\n",
    "print()\n",
    "print(\"Unique elements : \\n\", df[\"Age\"].unique())\n"
   ]
  },
  {
   "cell_type": "markdown",
   "id": "80c7de2d",
   "metadata": {},
   "source": [
    "### 2. Sex"
   ]
  },
  {
   "cell_type": "code",
   "execution_count": 88,
   "id": "4968eb54",
   "metadata": {},
   "outputs": [
    {
     "name": "stdout",
     "output_type": "stream",
     "text": [
      "Unique Elements:  ['F' 'M']\n",
      "Number of Unique elements in Sex column:  2\n"
     ]
    }
   ],
   "source": [
    "print(\"Unique Elements: \", df[\"Sex\"].unique())\n",
    "print(\"Number of Unique elements in Sex column: \", df[\"Sex\"].nunique())"
   ]
  },
  {
   "cell_type": "markdown",
   "id": "799ca5ae",
   "metadata": {},
   "source": [
    "### 3. BP"
   ]
  },
  {
   "cell_type": "code",
   "execution_count": 89,
   "id": "7a924bf1",
   "metadata": {},
   "outputs": [
    {
     "name": "stdout",
     "output_type": "stream",
     "text": [
      "Unique Elements:  ['HIGH' 'LOW' 'NORMAL']\n",
      "Number of Unique elements in BP column:  3\n"
     ]
    }
   ],
   "source": [
    "print(\"Unique Elements: \", df[\"BP\"].unique())\n",
    "print(\"Number of Unique elements in BP column: \", df[\"BP\"].nunique())"
   ]
  },
  {
   "cell_type": "markdown",
   "id": "0d5973d5",
   "metadata": {},
   "source": [
    "### 4. Cholestrol"
   ]
  },
  {
   "cell_type": "code",
   "execution_count": 90,
   "id": "9895cae7",
   "metadata": {},
   "outputs": [
    {
     "name": "stdout",
     "output_type": "stream",
     "text": [
      "Unique elements :  ['HIGH' 'NORMAL']\n",
      "Number of Unique elements in cholesterol column:  2\n"
     ]
    }
   ],
   "source": [
    "print(\"Unique elements : \", df[\"Cholesterol\"].unique())\n",
    "print(\"Number of Unique elements in cholesterol column: \", df[\"Cholesterol\"].nunique())\n"
   ]
  },
  {
   "cell_type": "markdown",
   "id": "15b7293d",
   "metadata": {},
   "source": [
    "### 5. Na_to_K"
   ]
  },
  {
   "cell_type": "code",
   "execution_count": 91,
   "id": "45c07038",
   "metadata": {},
   "outputs": [
    {
     "name": "stdout",
     "output_type": "stream",
     "text": [
      "Number of Unique elements in Na_to_K:  198\n",
      "\n",
      "Unique elements : \n",
      " [25.355 13.093 10.114  7.798 18.043  8.607 16.275 11.037 15.171 19.368\n",
      " 11.767 19.199 15.376 20.942 12.703 15.516 11.455 13.972  7.298 25.974\n",
      " 19.128 25.917 30.568 15.036 33.486 18.809 30.366  9.381 22.697 17.951\n",
      "  8.75   9.567 11.014 31.876 14.133  7.285  9.445 13.938  9.709  9.084\n",
      " 19.221 14.239 15.79  12.26  12.295  8.107 13.091 10.291 31.686 19.796\n",
      " 19.416 10.898 27.183 18.457 10.189 14.16  11.34  27.826 10.091 18.703\n",
      " 29.875  9.475 20.693  8.37  13.303 27.05  12.856 10.832 24.658 24.276\n",
      " 13.967 19.675 10.605 22.905 17.069 20.909 11.198 19.161 13.313 10.84\n",
      " 13.934  7.761  9.712 11.326 10.067 13.935 13.597 15.478 23.091 17.211\n",
      " 16.594 15.156 29.45  29.271 15.015 11.424 38.247 25.395 35.639 16.725\n",
      " 11.871 12.854 13.127  8.966 28.294  8.968 11.953 20.013  9.677 16.85\n",
      "  7.49   6.683  9.17  13.769  9.281 18.295  9.514 10.103 10.292 25.475\n",
      " 27.064 17.206 22.456 16.753 12.495 25.969 16.347  7.845 33.542  7.477\n",
      " 20.489 32.922 13.598 25.786 21.036 11.939 10.977 12.894 11.343 10.065\n",
      "  6.269 25.741  8.621 15.436  9.664  9.443 12.006 12.307  7.34   8.151\n",
      "  8.7   11.009  7.261 14.642 16.724 10.537 11.227 22.963 10.444 12.923\n",
      " 10.443  9.945 12.859 28.632 19.007 26.645 14.216 23.003 11.262 12.879\n",
      " 10.017 17.225 18.739 12.766 18.348 10.446 19.011 15.969 15.891 22.818\n",
      " 13.884 11.686 15.49  37.188 25.893  9.849 10.403 34.997 20.932 18.991\n",
      "  8.011 16.31   6.769 34.686 11.567  9.894 14.02  11.349]\n"
     ]
    }
   ],
   "source": [
    "print(\"Number of Unique elements in Na_to_K: \", df[\"Na_to_K\"].nunique())\n",
    "print()\n",
    "print(\"Unique elements : \\n\", df[\"Na_to_K\"].unique())"
   ]
  },
  {
   "cell_type": "markdown",
   "id": "1ad00c51",
   "metadata": {},
   "source": [
    "### 6. Drug"
   ]
  },
  {
   "cell_type": "code",
   "execution_count": 92,
   "id": "6dc618f0",
   "metadata": {},
   "outputs": [
    {
     "name": "stdout",
     "output_type": "stream",
     "text": [
      "Unique elements : ['DrugY' 'drugC' 'drugX' 'drugA' 'drugB']\n",
      "Number of Unique elements in Drug column:  5\n"
     ]
    }
   ],
   "source": [
    "print(\"Unique elements :\", df[\"Drug\"].unique())\n",
    "print(\"Number of Unique elements in Drug column: \", df[\"Drug\"].nunique())"
   ]
  },
  {
   "cell_type": "markdown",
   "id": "b8d73f8e",
   "metadata": {},
   "source": [
    "### 7. Skewness"
   ]
  },
  {
   "cell_type": "code",
   "execution_count": 93,
   "id": "fd6f6a78",
   "metadata": {},
   "outputs": [
    {
     "name": "stdout",
     "output_type": "stream",
     "text": [
      "Age skewness:  0.03030835703000607\n"
     ]
    }
   ],
   "source": [
    "skewAge = df.Age.skew(axis = 0, skipna = True)\n",
    "print('Age skewness: ', skewAge)"
   ]
  },
  {
   "cell_type": "code",
   "execution_count": 94,
   "id": "7397f5f8",
   "metadata": {},
   "outputs": [
    {
     "data": {
      "image/png": "[encoded data removed]",
      "text/plain": [
       "<Figure size 360x360 with 1 Axes>"
      ]
     },
     "metadata": {
      "needs_background": "light"
     },
     "output_type": "display_data"
    }
   ],
   "source": [
    "sns.displot(df[\"Age\"] , kde=True, bins = 20, color = \"black\")\n",
    "plt.savefig('Skew_normal.png', transparent=True)\n",
    "plt.show()"
   ]
  },
  {
   "cell_type": "markdown",
   "id": "dd230054",
   "metadata": {},
   "source": [
    "Normal skewness, Symmetrical"
   ]
  },
  {
   "cell_type": "code",
   "execution_count": 95,
   "id": "5dc8e6c1",
   "metadata": {},
   "outputs": [
    {
     "name": "stdout",
     "output_type": "stream",
     "text": [
      "Na to K skewness:  1.039341186028881\n"
     ]
    }
   ],
   "source": [
    "skewNatoK = df.Na_to_K.skew(axis = 0, skipna = True)\n",
    "print('Na to K skewness: ', skewNatoK)"
   ]
  },
  {
   "cell_type": "code",
   "execution_count": 96,
   "id": "105d0d10",
   "metadata": {},
   "outputs": [
    {
     "data": {
      "image/png": "[encoded data removed]",
      "text/plain": [
       "<Figure size 360x360 with 1 Axes>"
      ]
     },
     "metadata": {
      "needs_background": "light"
     },
     "output_type": "display_data"
    }
   ],
   "source": [
    "sns.displot(df[\"Na_to_K\"] , kde=True, bins = 20,color = \"black\")\n",
    "plt.savefig('Skew_right.png', transparent=True)\n",
    "plt.show()"
   ]
  },
  {
   "cell_type": "markdown",
   "id": "9cc80ad2",
   "metadata": {},
   "source": [
    "Right skewed"
   ]
  },
  {
   "cell_type": "markdown",
   "id": "03c7c120",
   "metadata": {},
   "source": [
    "# 3. Data Visualization and EDA"
   ]
  },
  {
   "cell_type": "markdown",
   "id": "77e01946",
   "metadata": {},
   "source": [
    "### 1. Distribution of males and females"
   ]
  },
  {
   "cell_type": "code",
   "execution_count": 97,
   "id": "e724eeec",
   "metadata": {},
   "outputs": [
    {
     "data": {
      "text/plain": [
       "M    104\n",
       "F     96\n",
       "Name: Sex, dtype: int64"
      ]
     },
     "execution_count": 97,
     "metadata": {},
     "output_type": "execute_result"
    }
   ],
   "source": [
    "# Inference:- Males > Females\n",
    "df.Sex.value_counts()"
   ]
  },
  {
   "cell_type": "code",
   "execution_count": 98,
   "id": "9bd64e28",
   "metadata": {},
   "outputs": [
    {
     "data": {
      "image/png": "[encoded data removed]",
      "text/plain": [
       "<Figure size 432x288 with 1 Axes>"
      ]
     },
     "metadata": {
      "needs_background": "light"
     },
     "output_type": "display_data"
    }
   ],
   "source": [
    "sns.countplot(x='Sex', data = df, palette=\"Blues\").set_title('Distribution of males and females')\n",
    "plt.savefig('Distribution of different BP level.png', transparent=True)"
   ]
  },
  {
   "cell_type": "markdown",
   "id": "5628433a",
   "metadata": {},
   "source": [
    "### 2. Distribution of different BP level"
   ]
  },
  {
   "cell_type": "code",
   "execution_count": 99,
   "id": "63b0e11c",
   "metadata": {},
   "outputs": [
    {
     "data": {
      "text/plain": [
       "HIGH      77\n",
       "LOW       64\n",
       "NORMAL    59\n",
       "Name: BP, dtype: int64"
      ]
     },
     "execution_count": 99,
     "metadata": {},
     "output_type": "execute_result"
    }
   ],
   "source": [
    "# Inference:- Maximumn people are having High BP\n",
    "df.BP.value_counts()"
   ]
  },
  {
   "cell_type": "code",
   "execution_count": 100,
   "id": "7370af6e",
   "metadata": {},
   "outputs": [
    {
     "data": {
      "image/png": "[encoded data removed]",
      "text/plain": [
       "<Figure size 432x288 with 1 Axes>"
      ]
     },
     "metadata": {
      "needs_background": "light"
     },
     "output_type": "display_data"
    }
   ],
   "source": [
    "sns.countplot(x='BP', data = df, palette=\"icefire\").set_title('Distribution of different BP level')\n",
    "plt.savefig('Distribution of different BP level.png', transparent=True)"
   ]
  },
  {
   "cell_type": "markdown",
   "id": "94c86998",
   "metadata": {},
   "source": [
    "### 3. Distribution of different cholesterol levels"
   ]
  },
  {
   "cell_type": "code",
   "execution_count": 101,
   "id": "5bdd40c8",
   "metadata": {},
   "outputs": [
    {
     "data": {
      "text/plain": [
       "HIGH      103\n",
       "NORMAL     97\n",
       "Name: Cholesterol, dtype: int64"
      ]
     },
     "execution_count": 101,
     "metadata": {},
     "output_type": "execute_result"
    }
   ],
   "source": [
    "# Maximum people are having high cholesterol\n",
    "df.Cholesterol.value_counts()"
   ]
  },
  {
   "cell_type": "code",
   "execution_count": 102,
   "id": "80ec2318",
   "metadata": {},
   "outputs": [
    {
     "data": {
      "image/png": "[encoded data removed]",
      "text/plain": [
       "<Figure size 432x288 with 1 Axes>"
      ]
     },
     "metadata": {
      "needs_background": "light"
     },
     "output_type": "display_data"
    }
   ],
   "source": [
    "sns.countplot(x='Cholesterol', data = df, palette=\"flare\").set_title('Distribution of different cholesterol levels')\n",
    "plt.savefig('Distribution of different cholesterol levels.png', transparent=True)"
   ]
  },
  {
   "cell_type": "markdown",
   "id": "0568e92c",
   "metadata": {},
   "source": [
    "### 4. Distribution of different drugs"
   ]
  },
  {
   "cell_type": "code",
   "execution_count": 103,
   "id": "0959489c",
   "metadata": {},
   "outputs": [
    {
     "data": {
      "text/plain": [
       "DrugY    91\n",
       "drugX    54\n",
       "drugA    23\n",
       "drugC    16\n",
       "drugB    16\n",
       "Name: Drug, dtype: int64"
      ]
     },
     "execution_count": 103,
     "metadata": {},
     "output_type": "execute_result"
    }
   ],
   "source": [
    "# Inference:- Drug Y is presecribed the most\n",
    "df.Drug.value_counts()"
   ]
  },
  {
   "cell_type": "code",
   "execution_count": 104,
   "id": "3143a169",
   "metadata": {},
   "outputs": [
    {
     "data": {
      "image/png": "[encoded data removed]",
      "text/plain": [
       "<Figure size 432x288 with 1 Axes>"
      ]
     },
     "metadata": {
      "needs_background": "light"
     },
     "output_type": "display_data"
    }
   ],
   "source": [
    "sns.countplot(x='Drug', data = df).set_title('Distribution of different drugs')\n",
    "plt.savefig('Distribution of different drugs.png', transparent=True)"
   ]
  },
  {
   "cell_type": "markdown",
   "id": "81f2e086",
   "metadata": {},
   "source": [
    "### 5. Gender distribution based on drug type"
   ]
  },
  {
   "cell_type": "code",
   "execution_count": 105,
   "id": "9e8e8ad3",
   "metadata": {
    "scrolled": true
   },
   "outputs": [
    {
     "data": {
      "image/png": "[encoded data removed]",
      "text/plain": [
       "<Figure size 864x360 with 1 Axes>"
      ]
     },
     "metadata": {
      "needs_background": "light"
     },
     "output_type": "display_data"
    }
   ],
   "source": [
    "pd.crosstab(df.Sex,df.Drug).plot(kind=\"barh\",figsize=(12,5),color=['#00085c','#41a0a3','#58508d','#bc5090','#4d005c'])\n",
    "plt.title('Gender distribution based on Drug type')\n",
    "plt.xlabel('Frequency')\n",
    "plt.xticks(rotation=0)\n",
    "plt.ylabel('Gender')\n",
    "plt.show()"
   ]
  },
  {
   "cell_type": "markdown",
   "id": "a93b78b9",
   "metadata": {},
   "source": [
    "### 6. Frequency - Sex vs Cholesterol"
   ]
  },
  {
   "cell_type": "code",
   "execution_count": 106,
   "id": "3afd50d2",
   "metadata": {},
   "outputs": [
    {
     "data": {
      "text/plain": [
       "[Text(0.5, 1.0, 'Frequency - Sex vs Cholesterol')]"
      ]
     },
     "execution_count": 106,
     "metadata": {},
     "output_type": "execute_result"
    },
    {
     "data": {
      "image/png": "[encoded data removed]",
      "text/plain": [
       "<Figure size 432x288 with 1 Axes>"
      ]
     },
     "metadata": {
      "needs_background": "light"
     },
     "output_type": "display_data"
    }
   ],
   "source": [
    "sns.barplot(x = \"Sex\", y = \"Count\", hue = \"Cholesterol\", data = df.groupby([\"Sex\", \"Cholesterol\"]).size().reset_index(name = \"Count\"), palette=\"flare\").set(title = \"Frequency - Sex vs Cholesterol\")"
   ]
  },
  {
   "cell_type": "markdown",
   "id": "86992597",
   "metadata": {},
   "source": [
    "### 7. Frequency - Sex vs BP"
   ]
  },
  {
   "cell_type": "code",
   "execution_count": 107,
   "id": "f12f14d4",
   "metadata": {},
   "outputs": [
    {
     "data": {
      "text/plain": [
       "[Text(0.5, 1.0, 'Frequency - Sex vs BP')]"
      ]
     },
     "execution_count": 107,
     "metadata": {},
     "output_type": "execute_result"
    },
    {
     "data": {
      "image/png": "[encoded data removed]",
      "text/plain": [
       "<Figure size 432x288 with 1 Axes>"
      ]
     },
     "metadata": {
      "needs_background": "light"
     },
     "output_type": "display_data"
    }
   ],
   "source": [
    "sns.barplot(x = \"Sex\", y = \"Count\", hue = \"BP\", data = df.groupby([\"Sex\", \"BP\"]).size().reset_index(name = \"Count\"), palette=\"Blues\").set(title = \"Frequency - Sex vs BP\")"
   ]
  },
  {
   "cell_type": "markdown",
   "id": "6d794275",
   "metadata": {},
   "source": [
    "### 8. BP based on Cholesterol"
   ]
  },
  {
   "cell_type": "code",
   "execution_count": 108,
   "id": "8713146e",
   "metadata": {},
   "outputs": [
    {
     "data": {
      "text/html": [
       "<div>\n",
       "<style scoped>\n",
       "    .dataframe tbody tr th:only-of-type {\n",
       "        vertical-align: middle;\n",
       "    }\n",
       "\n",
       "    .dataframe tbody tr th {\n",
       "        vertical-align: top;\n",
       "    }\n",
       "\n",
       "    .dataframe thead th {\n",
       "        text-align: right;\n",
       "    }\n",
       "</style>\n",
       "<table border=\"1\" class=\"dataframe\">\n",
       "  <thead>\n",
       "    <tr style=\"text-align: right;\">\n",
       "      <th></th>\n",
       "      <th>BP</th>\n",
       "      <th>Cholesterol</th>\n",
       "      <th>Drug</th>\n",
       "    </tr>\n",
       "  </thead>\n",
       "  <tbody>\n",
       "    <tr>\n",
       "      <th>0</th>\n",
       "      <td>HIGH</td>\n",
       "      <td>HIGH</td>\n",
       "      <td>35</td>\n",
       "    </tr>\n",
       "    <tr>\n",
       "      <th>1</th>\n",
       "      <td>HIGH</td>\n",
       "      <td>NORMAL</td>\n",
       "      <td>42</td>\n",
       "    </tr>\n",
       "    <tr>\n",
       "      <th>2</th>\n",
       "      <td>LOW</td>\n",
       "      <td>HIGH</td>\n",
       "      <td>31</td>\n",
       "    </tr>\n",
       "    <tr>\n",
       "      <th>3</th>\n",
       "      <td>LOW</td>\n",
       "      <td>NORMAL</td>\n",
       "      <td>33</td>\n",
       "    </tr>\n",
       "    <tr>\n",
       "      <th>4</th>\n",
       "      <td>NORMAL</td>\n",
       "      <td>HIGH</td>\n",
       "      <td>37</td>\n",
       "    </tr>\n",
       "    <tr>\n",
       "      <th>5</th>\n",
       "      <td>NORMAL</td>\n",
       "      <td>NORMAL</td>\n",
       "      <td>22</td>\n",
       "    </tr>\n",
       "  </tbody>\n",
       "</table>\n",
       "</div>"
      ],
      "text/plain": [
       "       BP Cholesterol  Drug\n",
       "0    HIGH        HIGH    35\n",
       "1    HIGH      NORMAL    42\n",
       "2     LOW        HIGH    31\n",
       "3     LOW      NORMAL    33\n",
       "4  NORMAL        HIGH    37\n",
       "5  NORMAL      NORMAL    22"
      ]
     },
     "execution_count": 108,
     "metadata": {},
     "output_type": "execute_result"
    }
   ],
   "source": [
    "df.groupby([\"BP\",\"Cholesterol\"])[\"Drug\"].count().reset_index()"
   ]
  },
  {
   "cell_type": "code",
   "execution_count": 109,
   "id": "aaf23559",
   "metadata": {},
   "outputs": [
    {
     "data": {
      "image/png": "[encoded data removed]",
      "text/plain": [
       "<Figure size 1080x432 with 1 Axes>"
      ]
     },
     "metadata": {
      "needs_background": "light"
     },
     "output_type": "display_data"
    }
   ],
   "source": [
    "pd.crosstab(df.BP,df.Cholesterol).plot(kind=\"barh\",figsize=(15,6),color=['#28135c','#c90832'])\n",
    "plt.title('Blood Pressure distribution based on Cholesterol')\n",
    "plt.xlabel('Frequency')\n",
    "plt.xticks(rotation=0)\n",
    "plt.ylabel('BP')\n",
    "plt.show()"
   ]
  },
  {
   "cell_type": "markdown",
   "id": "0cc57353",
   "metadata": {},
   "source": [
    "### 9. Na_to_K based on gender and age"
   ]
  },
  {
   "cell_type": "code",
   "execution_count": 110,
   "id": "76bddda1",
   "metadata": {},
   "outputs": [
    {
     "data": {
      "image/png": "[encoded data removed]",
      "text/plain": [
       "<Figure size 432x288 with 1 Axes>"
      ]
     },
     "metadata": {
      "needs_background": "light"
     },
     "output_type": "display_data"
    }
   ],
   "source": [
    "plt.scatter(x=df.Age[df.Sex=='F'], y=df.Na_to_K[(df.Sex=='F')], c=\"red\")\n",
    "plt.scatter(x=df.Age[df.Sex=='M'], y=df.Na_to_K[(df.Sex=='M')], c=\"black\")\n",
    "plt.legend([\"Female\", \"Male\"])\n",
    "plt.xlabel(\"Age\")\n",
    "plt.ylabel(\"Na_to_K\")\n",
    "plt.show()"
   ]
  },
  {
   "cell_type": "markdown",
   "id": "bd77dc3a",
   "metadata": {},
   "source": [
    "### 10. Drugs prescribed to sex"
   ]
  },
  {
   "cell_type": "code",
   "execution_count": 111,
   "id": "a00a7431",
   "metadata": {},
   "outputs": [
    {
     "name": "stderr",
     "output_type": "stream",
     "text": [
      "C:\\Users\\urvas\\anaconda3\\envs\\virenv\\lib\\site-packages\\seaborn\\categorical.py:1296: UserWarning:\n",
      "\n",
      "8.3% of the points cannot be placed; you may want to decrease the size of the markers or use stripplot.\n",
      "\n"
     ]
    },
    {
     "data": {
      "image/png": "[encoded data removed]",
      "text/plain": [
       "<Figure size 648x360 with 1 Axes>"
      ]
     },
     "metadata": {
      "needs_background": "light"
     },
     "output_type": "display_data"
    }
   ],
   "source": [
    "plt.figure(figsize = (9,5))\n",
    "sns.swarmplot(x = \"Sex\", y = \"Drug\",data = df)\n",
    "plt.legend(df.Drug.value_counts().index)\n",
    "plt.title(\"Sex Vs Drug\")\n",
    "plt.show()"
   ]
  },
  {
   "cell_type": "markdown",
   "id": "9e94dd42",
   "metadata": {},
   "source": [
    "1. Drug Y is prescribed the most to males and females\n",
    "2. Drug B is prescribed the least to females\n",
    "3. Drug C is prescribed the least to males"
   ]
  },
  {
   "cell_type": "code",
   "execution_count": 112,
   "id": "9aee2666",
   "metadata": {},
   "outputs": [
    {
     "data": {
      "text/html": [
       "<div>\n",
       "<style scoped>\n",
       "    .dataframe tbody tr th:only-of-type {\n",
       "        vertical-align: middle;\n",
       "    }\n",
       "\n",
       "    .dataframe tbody tr th {\n",
       "        vertical-align: top;\n",
       "    }\n",
       "\n",
       "    .dataframe thead th {\n",
       "        text-align: right;\n",
       "    }\n",
       "</style>\n",
       "<table border=\"1\" class=\"dataframe\">\n",
       "  <thead>\n",
       "    <tr style=\"text-align: right;\">\n",
       "      <th></th>\n",
       "      <th>Drug</th>\n",
       "      <th>Sex</th>\n",
       "      <th>Count</th>\n",
       "    </tr>\n",
       "  </thead>\n",
       "  <tbody>\n",
       "    <tr>\n",
       "      <th>0</th>\n",
       "      <td>DrugY</td>\n",
       "      <td>F</td>\n",
       "      <td>47</td>\n",
       "    </tr>\n",
       "    <tr>\n",
       "      <th>1</th>\n",
       "      <td>DrugY</td>\n",
       "      <td>M</td>\n",
       "      <td>44</td>\n",
       "    </tr>\n",
       "    <tr>\n",
       "      <th>2</th>\n",
       "      <td>drugA</td>\n",
       "      <td>F</td>\n",
       "      <td>9</td>\n",
       "    </tr>\n",
       "    <tr>\n",
       "      <th>3</th>\n",
       "      <td>drugA</td>\n",
       "      <td>M</td>\n",
       "      <td>14</td>\n",
       "    </tr>\n",
       "    <tr>\n",
       "      <th>4</th>\n",
       "      <td>drugB</td>\n",
       "      <td>F</td>\n",
       "      <td>6</td>\n",
       "    </tr>\n",
       "    <tr>\n",
       "      <th>5</th>\n",
       "      <td>drugB</td>\n",
       "      <td>M</td>\n",
       "      <td>10</td>\n",
       "    </tr>\n",
       "    <tr>\n",
       "      <th>6</th>\n",
       "      <td>drugC</td>\n",
       "      <td>F</td>\n",
       "      <td>7</td>\n",
       "    </tr>\n",
       "    <tr>\n",
       "      <th>7</th>\n",
       "      <td>drugC</td>\n",
       "      <td>M</td>\n",
       "      <td>9</td>\n",
       "    </tr>\n",
       "    <tr>\n",
       "      <th>8</th>\n",
       "      <td>drugX</td>\n",
       "      <td>F</td>\n",
       "      <td>27</td>\n",
       "    </tr>\n",
       "    <tr>\n",
       "      <th>9</th>\n",
       "      <td>drugX</td>\n",
       "      <td>M</td>\n",
       "      <td>27</td>\n",
       "    </tr>\n",
       "  </tbody>\n",
       "</table>\n",
       "</div>"
      ],
      "text/plain": [
       "    Drug Sex  Count\n",
       "0  DrugY   F     47\n",
       "1  DrugY   M     44\n",
       "2  drugA   F      9\n",
       "3  drugA   M     14\n",
       "4  drugB   F      6\n",
       "5  drugB   M     10\n",
       "6  drugC   F      7\n",
       "7  drugC   M      9\n",
       "8  drugX   F     27\n",
       "9  drugX   M     27"
      ]
     },
     "execution_count": 112,
     "metadata": {},
     "output_type": "execute_result"
    }
   ],
   "source": [
    "df_Sex_Drug = df.groupby([\"Drug\",\"Sex\"]).size().reset_index(name = \"Count\")\n",
    "df_Sex_Drug"
   ]
  },
  {
   "cell_type": "markdown",
   "id": "42ecf40e",
   "metadata": {},
   "source": [
    "### 11. Drugs prescribed according to BP level"
   ]
  },
  {
   "cell_type": "code",
   "execution_count": 113,
   "id": "fc0252bc",
   "metadata": {},
   "outputs": [
    {
     "data": {
      "image/png": "[encoded data removed]",
      "text/plain": [
       "<Figure size 432x288 with 1 Axes>"
      ]
     },
     "metadata": {
      "needs_background": "light"
     },
     "output_type": "display_data"
    }
   ],
   "source": [
    "df.plot(kind='scatter',x='BP',y='Drug', title = \"BP vs drugs\", color = \"black\", s=100)\n",
    "plt.savefig('Cholesterol vs drugs.png', transparent=True)"
   ]
  },
  {
   "cell_type": "code",
   "execution_count": 114,
   "id": "2d644bf1",
   "metadata": {},
   "outputs": [
    {
     "data": {
      "text/html": [
       "<div>\n",
       "<style scoped>\n",
       "    .dataframe tbody tr th:only-of-type {\n",
       "        vertical-align: middle;\n",
       "    }\n",
       "\n",
       "    .dataframe tbody tr th {\n",
       "        vertical-align: top;\n",
       "    }\n",
       "\n",
       "    .dataframe thead th {\n",
       "        text-align: right;\n",
       "    }\n",
       "</style>\n",
       "<table border=\"1\" class=\"dataframe\">\n",
       "  <thead>\n",
       "    <tr style=\"text-align: right;\">\n",
       "      <th></th>\n",
       "      <th>Drug</th>\n",
       "      <th>BP</th>\n",
       "      <th>Count</th>\n",
       "    </tr>\n",
       "  </thead>\n",
       "  <tbody>\n",
       "    <tr>\n",
       "      <th>0</th>\n",
       "      <td>DrugY</td>\n",
       "      <td>HIGH</td>\n",
       "      <td>38</td>\n",
       "    </tr>\n",
       "    <tr>\n",
       "      <th>1</th>\n",
       "      <td>DrugY</td>\n",
       "      <td>LOW</td>\n",
       "      <td>30</td>\n",
       "    </tr>\n",
       "    <tr>\n",
       "      <th>2</th>\n",
       "      <td>DrugY</td>\n",
       "      <td>NORMAL</td>\n",
       "      <td>23</td>\n",
       "    </tr>\n",
       "    <tr>\n",
       "      <th>3</th>\n",
       "      <td>drugA</td>\n",
       "      <td>HIGH</td>\n",
       "      <td>23</td>\n",
       "    </tr>\n",
       "    <tr>\n",
       "      <th>4</th>\n",
       "      <td>drugB</td>\n",
       "      <td>HIGH</td>\n",
       "      <td>16</td>\n",
       "    </tr>\n",
       "    <tr>\n",
       "      <th>5</th>\n",
       "      <td>drugC</td>\n",
       "      <td>LOW</td>\n",
       "      <td>16</td>\n",
       "    </tr>\n",
       "    <tr>\n",
       "      <th>6</th>\n",
       "      <td>drugX</td>\n",
       "      <td>LOW</td>\n",
       "      <td>18</td>\n",
       "    </tr>\n",
       "    <tr>\n",
       "      <th>7</th>\n",
       "      <td>drugX</td>\n",
       "      <td>NORMAL</td>\n",
       "      <td>36</td>\n",
       "    </tr>\n",
       "  </tbody>\n",
       "</table>\n",
       "</div>"
      ],
      "text/plain": [
       "    Drug      BP  Count\n",
       "0  DrugY    HIGH     38\n",
       "1  DrugY     LOW     30\n",
       "2  DrugY  NORMAL     23\n",
       "3  drugA    HIGH     23\n",
       "4  drugB    HIGH     16\n",
       "5  drugC     LOW     16\n",
       "6  drugX     LOW     18\n",
       "7  drugX  NORMAL     36"
      ]
     },
     "execution_count": 114,
     "metadata": {},
     "output_type": "execute_result"
    }
   ],
   "source": [
    "df_BP_Drug = df.groupby([\"Drug\",\"BP\"]).size().reset_index(name = \"Count\")\n",
    "df_BP_Drug"
   ]
  },
  {
   "cell_type": "markdown",
   "id": "502c20d4",
   "metadata": {},
   "source": [
    "1. People having High BP are prescribed only drug Y,A,B\n",
    "2. People having Low BP are prescibed only drug Y,C,X\n",
    "3. People having Normal BP are prescribed drug X,Y"
   ]
  },
  {
   "cell_type": "markdown",
   "id": "44f1f548",
   "metadata": {},
   "source": [
    "### 12. Drugs prescribed according to Cholesterol level"
   ]
  },
  {
   "cell_type": "code",
   "execution_count": 115,
   "id": "399bae57",
   "metadata": {},
   "outputs": [
    {
     "data": {
      "image/png": "[encoded data removed]",
      "text/plain": [
       "<Figure size 432x288 with 1 Axes>"
      ]
     },
     "metadata": {
      "needs_background": "light"
     },
     "output_type": "display_data"
    }
   ],
   "source": [
    "df.plot(kind='scatter',x='Cholesterol',y='Drug', title = \"Cholesterol vs drugs\", color = \"blue\", s=100)\n",
    "plt.savefig('Cholesterol vs drugs.png', transparent=True)"
   ]
  },
  {
   "cell_type": "markdown",
   "id": "539c3b18",
   "metadata": {},
   "source": [
    "1. People with High cholesterol are described all drugs\n",
    "2. People with normal cholesterol are described drug X,Y,A,B"
   ]
  },
  {
   "cell_type": "markdown",
   "id": "d790faaa",
   "metadata": {},
   "source": [
    "### 13. Drugs prescribed according to Na_to_K"
   ]
  },
  {
   "cell_type": "code",
   "execution_count": 116,
   "id": "6ee4094e",
   "metadata": {},
   "outputs": [
    {
     "data": {
      "image/png": "[encoded data removed]",
      "text/plain": [
       "<Figure size 432x288 with 1 Axes>"
      ]
     },
     "metadata": {
      "needs_background": "light"
     },
     "output_type": "display_data"
    }
   ],
   "source": [
    "df.plot(kind='scatter',x='Drug',y='Na_to_K', title = \"Drug vs Na_to_K\", color = \"red\")\n",
    "plt.savefig('Drug vs Na_to_K.jpg')"
   ]
  },
  {
   "cell_type": "markdown",
   "id": "fc5ea306",
   "metadata": {},
   "source": [
    "1. People with more than 15.015 Na_to_K are prescribed DrugY\n",
    "2. People with less than 15.015 Na_to_K are prescribed DrugC, DrugX, DrugA, DrugB"
   ]
  },
  {
   "cell_type": "markdown",
   "id": "f1518e19",
   "metadata": {},
   "source": [
    "### 14. Drugs prescribed according to Age"
   ]
  },
  {
   "cell_type": "code",
   "execution_count": 117,
   "id": "c5b9cd0b",
   "metadata": {},
   "outputs": [
    {
     "data": {
      "image/png": "[encoded data removed]",
      "text/plain": [
       "<Figure size 432x288 with 1 Axes>"
      ]
     },
     "metadata": {
      "needs_background": "light"
     },
     "output_type": "display_data"
    }
   ],
   "source": [
    "df.plot(kind='scatter',x='Drug',y='Age', title = \"Drug vs Age\", color = \"red\")\n",
    "plt.savefig('Drug vs Age.png', transparent=True)"
   ]
  },
  {
   "cell_type": "markdown",
   "id": "4f79a490",
   "metadata": {},
   "source": [
    "People less than 50 age are not prescribed drug B and people greater than 51 age are not prescribed drug A"
   ]
  },
  {
   "cell_type": "code",
   "execution_count": 118,
   "id": "1d0148c1",
   "metadata": {},
   "outputs": [
    {
     "name": "stdout",
     "output_type": "stream",
     "text": [
      "Minimum Age of DrugB 51\n",
      "Maximum Age of DrugA 50\n"
     ]
    }
   ],
   "source": [
    "print(\"Minimum Age of DrugB\",df.Age[df.Drug == \"drugB\"].min())\n",
    "print(\"Maximum Age of DrugA\",df.Age[df.Drug == \"drugA\"].max())"
   ]
  },
  {
   "cell_type": "markdown",
   "id": "9308de4b",
   "metadata": {},
   "source": [
    "### 15. Na_to_K Vs BP Vs Drug"
   ]
  },
  {
   "cell_type": "code",
   "execution_count": 119,
   "id": "3dce3781",
   "metadata": {
    "scrolled": true
   },
   "outputs": [
    {
     "data": {
      "image/png": "[encoded data removed]",
      "text/plain": [
       "<Figure size 648x360 with 1 Axes>"
      ]
     },
     "metadata": {
      "needs_background": "light"
     },
     "output_type": "display_data"
    }
   ],
   "source": [
    "plt.figure(figsize = (9,5))\n",
    "sns.swarmplot(x = \"Drug\", y = \"Na_to_K\",hue=\"BP\",data = df, palette=\"flare\")\n",
    "plt.legend()\n",
    "plt.title(\"Na_to_K Vs BP Vs Drug\")\n",
    "plt.show()"
   ]
  },
  {
   "cell_type": "markdown",
   "id": "ed5625b7",
   "metadata": {},
   "source": [
    "# 4. Data Modeling"
   ]
  },
  {
   "cell_type": "markdown",
   "id": "8b431664",
   "metadata": {},
   "source": [
    "The age will be divided into 7 age categories:\n",
    "Age \n",
    "1. Below 20 y.o.\n",
    "2. 20 - 29 y.o.\n",
    "3. 30 - 39 y.o.\n",
    "4. 40 - 49 y.o.\n",
    "5. 50 - 59 y.o.\n",
    "6. 60 - 69 y.o.\n",
    "7. Above 70."
   ]
  },
  {
   "cell_type": "code",
   "execution_count": 120,
   "id": "2da78ce7",
   "metadata": {},
   "outputs": [],
   "source": [
    "binary_age = [0, 19, 29, 39, 49, 59, 69, 80]\n",
    "categories_age = ['<20s', '20s', '30s', '40s', '50s', '60s', '>70s']\n",
    "df['Age_binned'] = pd.cut(df['Age'], bins=binary_age, labels=categories_age)\n",
    "df = df.drop(['Age'], axis = 1)"
   ]
  },
  {
   "cell_type": "markdown",
   "id": "213d2640",
   "metadata": {},
   "source": [
    "The ratio will be divided into 4 categories: Na_to_K\n",
    "1. Below 10.\n",
    "2. 10 - 20.\n",
    "3. 20 - 30.\n",
    "4. Above 30."
   ]
  },
  {
   "cell_type": "code",
   "execution_count": 121,
   "id": "745661b8",
   "metadata": {},
   "outputs": [],
   "source": [
    "binary_NatoK = [0, 9, 19, 29, 50]\n",
    "categories_NatoK = ['<10', '10-20', '20-30', '>30']\n",
    "df['Na_to_K_binned'] = pd.cut(df['Na_to_K'], bins=binary_NatoK, labels=categories_NatoK)\n",
    "df = df.drop(['Na_to_K'], axis = 1)"
   ]
  },
  {
   "cell_type": "markdown",
   "id": "ba89d036",
   "metadata": {},
   "source": [
    "### 4.1. Splitting the dataset into train and test parts"
   ]
  },
  {
   "cell_type": "markdown",
   "id": "6f3f139a",
   "metadata": {},
   "source": [
    "Division into 70%-30% split"
   ]
  },
  {
   "cell_type": "code",
   "execution_count": 122,
   "id": "c91be626",
   "metadata": {},
   "outputs": [],
   "source": [
    "X = df.drop([\"Drug\"], axis=1)\n",
    "y = df[\"Drug\"]\n",
    "X_train, X_test, y_train, y_test = train_test_split(X, y, test_size = 0.3, random_state = 0)"
   ]
  },
  {
   "cell_type": "markdown",
   "id": "eaf1db50",
   "metadata": {},
   "source": [
    "### 4.2. Feature Engineering"
   ]
  },
  {
   "cell_type": "code",
   "execution_count": 123,
   "id": "3c05a1b6",
   "metadata": {},
   "outputs": [],
   "source": [
    "X_train = pd.get_dummies(X_train)\n",
    "X_test = pd.get_dummies(X_test)\n",
    "#used for data manipulation. It converts categorical data into dummy or indicator variables"
   ]
  },
  {
   "cell_type": "code",
   "execution_count": 124,
   "id": "a36a3196",
   "metadata": {},
   "outputs": [
    {
     "data": {
      "text/html": [
       "<div>\n",
       "<style scoped>\n",
       "    .dataframe tbody tr th:only-of-type {\n",
       "        vertical-align: middle;\n",
       "    }\n",
       "\n",
       "    .dataframe tbody tr th {\n",
       "        vertical-align: top;\n",
       "    }\n",
       "\n",
       "    .dataframe thead th {\n",
       "        text-align: right;\n",
       "    }\n",
       "</style>\n",
       "<table border=\"1\" class=\"dataframe\">\n",
       "  <thead>\n",
       "    <tr style=\"text-align: right;\">\n",
       "      <th></th>\n",
       "      <th>Sex_F</th>\n",
       "      <th>Sex_M</th>\n",
       "      <th>BP_HIGH</th>\n",
       "      <th>BP_LOW</th>\n",
       "      <th>BP_NORMAL</th>\n",
       "      <th>Cholesterol_HIGH</th>\n",
       "      <th>Cholesterol_NORMAL</th>\n",
       "      <th>Age_binned_&lt;20s</th>\n",
       "      <th>Age_binned_20s</th>\n",
       "      <th>Age_binned_30s</th>\n",
       "      <th>Age_binned_40s</th>\n",
       "      <th>Age_binned_50s</th>\n",
       "      <th>Age_binned_60s</th>\n",
       "      <th>Age_binned_&gt;70s</th>\n",
       "      <th>Na_to_K_binned_&lt;10</th>\n",
       "      <th>Na_to_K_binned_10-20</th>\n",
       "      <th>Na_to_K_binned_20-30</th>\n",
       "      <th>Na_to_K_binned_&gt;30</th>\n",
       "    </tr>\n",
       "  </thead>\n",
       "  <tbody>\n",
       "    <tr>\n",
       "      <th>131</th>\n",
       "      <td>0</td>\n",
       "      <td>1</td>\n",
       "      <td>0</td>\n",
       "      <td>1</td>\n",
       "      <td>0</td>\n",
       "      <td>0</td>\n",
       "      <td>1</td>\n",
       "      <td>0</td>\n",
       "      <td>0</td>\n",
       "      <td>0</td>\n",
       "      <td>0</td>\n",
       "      <td>1</td>\n",
       "      <td>0</td>\n",
       "      <td>0</td>\n",
       "      <td>0</td>\n",
       "      <td>0</td>\n",
       "      <td>0</td>\n",
       "      <td>1</td>\n",
       "    </tr>\n",
       "    <tr>\n",
       "      <th>96</th>\n",
       "      <td>1</td>\n",
       "      <td>0</td>\n",
       "      <td>0</td>\n",
       "      <td>1</td>\n",
       "      <td>0</td>\n",
       "      <td>1</td>\n",
       "      <td>0</td>\n",
       "      <td>0</td>\n",
       "      <td>0</td>\n",
       "      <td>0</td>\n",
       "      <td>0</td>\n",
       "      <td>1</td>\n",
       "      <td>0</td>\n",
       "      <td>0</td>\n",
       "      <td>0</td>\n",
       "      <td>0</td>\n",
       "      <td>0</td>\n",
       "      <td>1</td>\n",
       "    </tr>\n",
       "    <tr>\n",
       "      <th>181</th>\n",
       "      <td>1</td>\n",
       "      <td>0</td>\n",
       "      <td>0</td>\n",
       "      <td>0</td>\n",
       "      <td>1</td>\n",
       "      <td>1</td>\n",
       "      <td>0</td>\n",
       "      <td>0</td>\n",
       "      <td>0</td>\n",
       "      <td>0</td>\n",
       "      <td>0</td>\n",
       "      <td>1</td>\n",
       "      <td>0</td>\n",
       "      <td>0</td>\n",
       "      <td>0</td>\n",
       "      <td>1</td>\n",
       "      <td>0</td>\n",
       "      <td>0</td>\n",
       "    </tr>\n",
       "    <tr>\n",
       "      <th>19</th>\n",
       "      <td>1</td>\n",
       "      <td>0</td>\n",
       "      <td>1</td>\n",
       "      <td>0</td>\n",
       "      <td>0</td>\n",
       "      <td>0</td>\n",
       "      <td>1</td>\n",
       "      <td>0</td>\n",
       "      <td>0</td>\n",
       "      <td>1</td>\n",
       "      <td>0</td>\n",
       "      <td>0</td>\n",
       "      <td>0</td>\n",
       "      <td>0</td>\n",
       "      <td>0</td>\n",
       "      <td>0</td>\n",
       "      <td>1</td>\n",
       "      <td>0</td>\n",
       "    </tr>\n",
       "    <tr>\n",
       "      <th>153</th>\n",
       "      <td>1</td>\n",
       "      <td>0</td>\n",
       "      <td>0</td>\n",
       "      <td>1</td>\n",
       "      <td>0</td>\n",
       "      <td>0</td>\n",
       "      <td>1</td>\n",
       "      <td>0</td>\n",
       "      <td>0</td>\n",
       "      <td>0</td>\n",
       "      <td>0</td>\n",
       "      <td>0</td>\n",
       "      <td>0</td>\n",
       "      <td>1</td>\n",
       "      <td>0</td>\n",
       "      <td>1</td>\n",
       "      <td>0</td>\n",
       "      <td>0</td>\n",
       "    </tr>\n",
       "  </tbody>\n",
       "</table>\n",
       "</div>"
      ],
      "text/plain": [
       "     Sex_F  Sex_M  BP_HIGH  BP_LOW  BP_NORMAL  Cholesterol_HIGH  \\\n",
       "131      0      1        0       1          0                 0   \n",
       "96       1      0        0       1          0                 1   \n",
       "181      1      0        0       0          1                 1   \n",
       "19       1      0        1       0          0                 0   \n",
       "153      1      0        0       1          0                 0   \n",
       "\n",
       "     Cholesterol_NORMAL  Age_binned_<20s  Age_binned_20s  Age_binned_30s  \\\n",
       "131                   1                0               0               0   \n",
       "96                    0                0               0               0   \n",
       "181                   0                0               0               0   \n",
       "19                    1                0               0               1   \n",
       "153                   1                0               0               0   \n",
       "\n",
       "     Age_binned_40s  Age_binned_50s  Age_binned_60s  Age_binned_>70s  \\\n",
       "131               0               1               0                0   \n",
       "96                0               1               0                0   \n",
       "181               0               1               0                0   \n",
       "19                0               0               0                0   \n",
       "153               0               0               0                1   \n",
       "\n",
       "     Na_to_K_binned_<10  Na_to_K_binned_10-20  Na_to_K_binned_20-30  \\\n",
       "131                   0                     0                     0   \n",
       "96                    0                     0                     0   \n",
       "181                   0                     1                     0   \n",
       "19                    0                     0                     1   \n",
       "153                   0                     1                     0   \n",
       "\n",
       "     Na_to_K_binned_>30  \n",
       "131                   1  \n",
       "96                    1  \n",
       "181                   0  \n",
       "19                    0  \n",
       "153                   0  "
      ]
     },
     "execution_count": 124,
     "metadata": {},
     "output_type": "execute_result"
    }
   ],
   "source": [
    "X_train.head()"
   ]
  },
  {
   "cell_type": "code",
   "execution_count": 125,
   "id": "3733b90a",
   "metadata": {},
   "outputs": [
    {
     "data": {
      "text/html": [
       "<div>\n",
       "<style scoped>\n",
       "    .dataframe tbody tr th:only-of-type {\n",
       "        vertical-align: middle;\n",
       "    }\n",
       "\n",
       "    .dataframe tbody tr th {\n",
       "        vertical-align: top;\n",
       "    }\n",
       "\n",
       "    .dataframe thead th {\n",
       "        text-align: right;\n",
       "    }\n",
       "</style>\n",
       "<table border=\"1\" class=\"dataframe\">\n",
       "  <thead>\n",
       "    <tr style=\"text-align: right;\">\n",
       "      <th></th>\n",
       "      <th>Sex_F</th>\n",
       "      <th>Sex_M</th>\n",
       "      <th>BP_HIGH</th>\n",
       "      <th>BP_LOW</th>\n",
       "      <th>BP_NORMAL</th>\n",
       "      <th>Cholesterol_HIGH</th>\n",
       "      <th>Cholesterol_NORMAL</th>\n",
       "      <th>Age_binned_&lt;20s</th>\n",
       "      <th>Age_binned_20s</th>\n",
       "      <th>Age_binned_30s</th>\n",
       "      <th>Age_binned_40s</th>\n",
       "      <th>Age_binned_50s</th>\n",
       "      <th>Age_binned_60s</th>\n",
       "      <th>Age_binned_&gt;70s</th>\n",
       "      <th>Na_to_K_binned_&lt;10</th>\n",
       "      <th>Na_to_K_binned_10-20</th>\n",
       "      <th>Na_to_K_binned_20-30</th>\n",
       "      <th>Na_to_K_binned_&gt;30</th>\n",
       "    </tr>\n",
       "  </thead>\n",
       "  <tbody>\n",
       "    <tr>\n",
       "      <th>18</th>\n",
       "      <td>0</td>\n",
       "      <td>1</td>\n",
       "      <td>0</td>\n",
       "      <td>1</td>\n",
       "      <td>0</td>\n",
       "      <td>1</td>\n",
       "      <td>0</td>\n",
       "      <td>0</td>\n",
       "      <td>1</td>\n",
       "      <td>0</td>\n",
       "      <td>0</td>\n",
       "      <td>0</td>\n",
       "      <td>0</td>\n",
       "      <td>0</td>\n",
       "      <td>1</td>\n",
       "      <td>0</td>\n",
       "      <td>0</td>\n",
       "      <td>0</td>\n",
       "    </tr>\n",
       "    <tr>\n",
       "      <th>170</th>\n",
       "      <td>1</td>\n",
       "      <td>0</td>\n",
       "      <td>0</td>\n",
       "      <td>0</td>\n",
       "      <td>1</td>\n",
       "      <td>1</td>\n",
       "      <td>0</td>\n",
       "      <td>0</td>\n",
       "      <td>1</td>\n",
       "      <td>0</td>\n",
       "      <td>0</td>\n",
       "      <td>0</td>\n",
       "      <td>0</td>\n",
       "      <td>0</td>\n",
       "      <td>0</td>\n",
       "      <td>1</td>\n",
       "      <td>0</td>\n",
       "      <td>0</td>\n",
       "    </tr>\n",
       "    <tr>\n",
       "      <th>107</th>\n",
       "      <td>0</td>\n",
       "      <td>1</td>\n",
       "      <td>0</td>\n",
       "      <td>1</td>\n",
       "      <td>0</td>\n",
       "      <td>1</td>\n",
       "      <td>0</td>\n",
       "      <td>0</td>\n",
       "      <td>0</td>\n",
       "      <td>0</td>\n",
       "      <td>1</td>\n",
       "      <td>0</td>\n",
       "      <td>0</td>\n",
       "      <td>0</td>\n",
       "      <td>0</td>\n",
       "      <td>0</td>\n",
       "      <td>1</td>\n",
       "      <td>0</td>\n",
       "    </tr>\n",
       "    <tr>\n",
       "      <th>98</th>\n",
       "      <td>0</td>\n",
       "      <td>1</td>\n",
       "      <td>1</td>\n",
       "      <td>0</td>\n",
       "      <td>0</td>\n",
       "      <td>0</td>\n",
       "      <td>1</td>\n",
       "      <td>0</td>\n",
       "      <td>1</td>\n",
       "      <td>0</td>\n",
       "      <td>0</td>\n",
       "      <td>0</td>\n",
       "      <td>0</td>\n",
       "      <td>0</td>\n",
       "      <td>0</td>\n",
       "      <td>0</td>\n",
       "      <td>0</td>\n",
       "      <td>1</td>\n",
       "    </tr>\n",
       "    <tr>\n",
       "      <th>177</th>\n",
       "      <td>0</td>\n",
       "      <td>1</td>\n",
       "      <td>0</td>\n",
       "      <td>0</td>\n",
       "      <td>1</td>\n",
       "      <td>1</td>\n",
       "      <td>0</td>\n",
       "      <td>0</td>\n",
       "      <td>1</td>\n",
       "      <td>0</td>\n",
       "      <td>0</td>\n",
       "      <td>0</td>\n",
       "      <td>0</td>\n",
       "      <td>0</td>\n",
       "      <td>0</td>\n",
       "      <td>0</td>\n",
       "      <td>1</td>\n",
       "      <td>0</td>\n",
       "    </tr>\n",
       "  </tbody>\n",
       "</table>\n",
       "</div>"
      ],
      "text/plain": [
       "     Sex_F  Sex_M  BP_HIGH  BP_LOW  BP_NORMAL  Cholesterol_HIGH  \\\n",
       "18       0      1        0       1          0                 1   \n",
       "170      1      0        0       0          1                 1   \n",
       "107      0      1        0       1          0                 1   \n",
       "98       0      1        1       0          0                 0   \n",
       "177      0      1        0       0          1                 1   \n",
       "\n",
       "     Cholesterol_NORMAL  Age_binned_<20s  Age_binned_20s  Age_binned_30s  \\\n",
       "18                    0                0               1               0   \n",
       "170                   0                0               1               0   \n",
       "107                   0                0               0               0   \n",
       "98                    1                0               1               0   \n",
       "177                   0                0               1               0   \n",
       "\n",
       "     Age_binned_40s  Age_binned_50s  Age_binned_60s  Age_binned_>70s  \\\n",
       "18                0               0               0                0   \n",
       "170               0               0               0                0   \n",
       "107               1               0               0                0   \n",
       "98                0               0               0                0   \n",
       "177               0               0               0                0   \n",
       "\n",
       "     Na_to_K_binned_<10  Na_to_K_binned_10-20  Na_to_K_binned_20-30  \\\n",
       "18                    1                     0                     0   \n",
       "170                   0                     1                     0   \n",
       "107                   0                     0                     1   \n",
       "98                    0                     0                     0   \n",
       "177                   0                     0                     1   \n",
       "\n",
       "     Na_to_K_binned_>30  \n",
       "18                    0  \n",
       "170                   0  \n",
       "107                   0  \n",
       "98                    1  \n",
       "177                   0  "
      ]
     },
     "execution_count": 125,
     "metadata": {},
     "output_type": "execute_result"
    }
   ],
   "source": [
    "X_test.head()"
   ]
  },
  {
   "cell_type": "markdown",
   "id": "59453aeb",
   "metadata": {},
   "source": [
    "Synthetic Minority Oversampling Technique (SMOTE) Technique - Oversampling as values of drugY are more                          \n",
    "For balancing out the imbalanced data"
   ]
  },
  {
   "cell_type": "code",
   "execution_count": 126,
   "id": "7550f73a",
   "metadata": {},
   "outputs": [],
   "source": [
    "X_train, y_train = SMOTE().fit_resample(X_train, y_train)"
   ]
  },
  {
   "cell_type": "code",
   "execution_count": 127,
   "id": "f0696da3",
   "metadata": {},
   "outputs": [
    {
     "data": {
      "image/png": "[encoded data removed]",
      "text/plain": [
       "<Figure size 432x288 with 1 Axes>"
      ]
     },
     "metadata": {},
     "output_type": "display_data"
    }
   ],
   "source": [
    "sns.set_theme(style=\"darkgrid\")\n",
    "sns.countplot(y=y_train, data=df, palette=\"coolwarm\")\n",
    "plt.ylabel('Drug Type')\n",
    "plt.xlabel('Total')\n",
    "plt.show()"
   ]
  },
  {
   "cell_type": "markdown",
   "id": "4af946d0",
   "metadata": {},
   "source": [
    "### 4.3. Models"
   ]
  },
  {
   "cell_type": "markdown",
   "id": "76d6893c",
   "metadata": {},
   "source": [
    "### i. Decision Tree"
   ]
  },
  {
   "cell_type": "code",
   "execution_count": 128,
   "id": "55d43f3c",
   "metadata": {},
   "outputs": [
    {
     "name": "stdout",
     "output_type": "stream",
     "text": [
      "Classification Report: \n",
      "               precision    recall  f1-score   support\n",
      "\n",
      "       DrugY       0.90      0.63      0.75        30\n",
      "       drugA       0.56      1.00      0.71         5\n",
      "       drugB       0.75      1.00      0.86         3\n",
      "       drugC       0.67      1.00      0.80         4\n",
      "       drugX       0.80      0.89      0.84        18\n",
      "\n",
      "    accuracy                           0.78        60\n",
      "   macro avg       0.74      0.90      0.79        60\n",
      "weighted avg       0.82      0.78      0.78        60\n",
      "\n",
      "Confusion Matrix: \n",
      " [[19  4  1  2  4]\n",
      " [ 0  5  0  0  0]\n",
      " [ 0  0  3  0  0]\n",
      " [ 0  0  0  4  0]\n",
      " [ 2  0  0  0 16]]\n",
      "\n",
      "Decision Tree accuracy is: 78.33%\n"
     ]
    }
   ],
   "source": [
    "DT = DecisionTreeClassifier(max_leaf_nodes=20)\n",
    "DT.fit(X_train, y_train)\n",
    "\n",
    "y_pred1 = DT.predict(X_test)\n",
    "\n",
    "print(\"Classification Report: \\n\", classification_report(y_test, y_pred1))\n",
    "print(\"Confusion Matrix: \\n\", confusion_matrix(y_test, y_pred1))\n",
    "\n",
    "Acc1 = accuracy_score(y_pred1,y_test)\n",
    "print('\\nDecision Tree accuracy is: {:.2f}%'.format(Acc1*100))"
   ]
  },
  {
   "cell_type": "markdown",
   "id": "8193a705",
   "metadata": {},
   "source": [
    "Leaf vs Score"
   ]
  },
  {
   "cell_type": "code",
   "execution_count": 129,
   "id": "c4788b67",
   "metadata": {},
   "outputs": [
    {
     "data": {
      "image/png": "[encoded data removed]",
      "text/plain": [
       "<Figure size 432x288 with 1 Axes>"
      ]
     },
     "metadata": {},
     "output_type": "display_data"
    },
    {
     "name": "stdout",
     "output_type": "stream",
     "text": [
      "DT Acc Max 78.33%\n"
     ]
    }
   ],
   "source": [
    "scoreListDT = []\n",
    "for i in range(2,50):\n",
    "    DT = DecisionTreeClassifier(max_leaf_nodes=i)\n",
    "    DT.fit(X_train, y_train)\n",
    "    scoreListDT.append(DT.score(X_test, y_test))\n",
    "    \n",
    "plt.plot(range(2,50), scoreListDT)\n",
    "plt.xticks(np.arange(2,50,5))\n",
    "plt.xlabel(\"Leaf\")\n",
    "plt.ylabel(\"Score\")\n",
    "plt.title(\"Leaf vs Score\")\n",
    "plt.show()\n",
    "DTAccMax = max(scoreListDT)\n",
    "print(\"DT Acc Max {:.2f}%\".format(DTAccMax*100))"
   ]
  },
  {
   "cell_type": "markdown",
   "id": "c25c77e6",
   "metadata": {},
   "source": [
    "### ii. Support Vector Machine (SVM)"
   ]
  },
  {
   "cell_type": "code",
   "execution_count": 130,
   "id": "e22190bb",
   "metadata": {},
   "outputs": [
    {
     "name": "stdout",
     "output_type": "stream",
     "text": [
      "Classification Report: \n",
      "               precision    recall  f1-score   support\n",
      "\n",
      "       DrugY       0.95      0.70      0.81        30\n",
      "       drugA       0.67      0.80      0.73         5\n",
      "       drugB       0.75      1.00      0.86         3\n",
      "       drugC       0.67      1.00      0.80         4\n",
      "       drugX       0.82      1.00      0.90        18\n",
      "\n",
      "    accuracy                           0.83        60\n",
      "   macro avg       0.77      0.90      0.82        60\n",
      "weighted avg       0.86      0.83      0.83        60\n",
      "\n",
      "Confusion Matrix: \n",
      " [[21  2  1  2  4]\n",
      " [ 1  4  0  0  0]\n",
      " [ 0  0  3  0  0]\n",
      " [ 0  0  0  4  0]\n",
      " [ 0  0  0  0 18]]\n",
      "\n",
      "SVC accuracy is: 83.33%\n"
     ]
    },
    {
     "name": "stderr",
     "output_type": "stream",
     "text": [
      "C:\\Users\\urvas\\anaconda3\\envs\\virenv\\lib\\site-packages\\sklearn\\svm\\_base.py:301: ConvergenceWarning:\n",
      "\n",
      "Solver terminated early (max_iter=251).  Consider pre-processing your data with StandardScaler or MinMaxScaler.\n",
      "\n"
     ]
    }
   ],
   "source": [
    "SVM = SVC(kernel='linear', max_iter=251)\n",
    "SVM.fit(X_train, y_train)\n",
    "\n",
    "y_pred2 = SVM.predict(X_test)\n",
    "\n",
    "print(\"Classification Report: \\n\", classification_report(y_test, y_pred2))\n",
    "print(\"Confusion Matrix: \\n\", confusion_matrix(y_test, y_pred2))\n",
    "\n",
    "Acc2 = accuracy_score(y_pred2,y_test)\n",
    "print('\\nSVC accuracy is: {:.2f}%'.format(Acc2*100))"
   ]
  },
  {
   "cell_type": "markdown",
   "id": "ebe492fa",
   "metadata": {},
   "source": [
    "### iii. Logistic Regression"
   ]
  },
  {
   "cell_type": "code",
   "execution_count": 131,
   "id": "ef97f041",
   "metadata": {},
   "outputs": [
    {
     "name": "stdout",
     "output_type": "stream",
     "text": [
      "Classification Report: \n",
      "               precision    recall  f1-score   support\n",
      "\n",
      "       DrugY       1.00      0.70      0.82        30\n",
      "       drugA       0.71      1.00      0.83         5\n",
      "       drugB       0.75      1.00      0.86         3\n",
      "       drugC       0.67      1.00      0.80         4\n",
      "       drugX       0.82      1.00      0.90        18\n",
      "\n",
      "    accuracy                           0.85        60\n",
      "   macro avg       0.79      0.94      0.84        60\n",
      "weighted avg       0.89      0.85      0.85        60\n",
      "\n",
      "Confusion Matrix: \n",
      " [[21  2  1  2  4]\n",
      " [ 0  5  0  0  0]\n",
      " [ 0  0  3  0  0]\n",
      " [ 0  0  0  4  0]\n",
      " [ 0  0  0  0 18]]\n",
      "\n",
      "Logistic Regression accuracy is: 85.00%\n"
     ]
    }
   ],
   "source": [
    "LR = LogisticRegression(solver='liblinear', max_iter=5000)\n",
    "LR.fit(X_train, y_train)\n",
    "\n",
    "y_pred3 = LR.predict(X_test)\n",
    "\n",
    "print(\"Classification Report: \\n\", classification_report(y_test, y_pred3))\n",
    "print(\"Confusion Matrix: \\n\", confusion_matrix(y_test, y_pred3))\n",
    "\n",
    "Acc3 = accuracy_score(y_pred3,y_test)\n",
    "print('\\nLogistic Regression accuracy is: {:.2f}%'.format(Acc3*100))"
   ]
  },
  {
   "cell_type": "markdown",
   "id": "af755389",
   "metadata": {},
   "source": [
    "### iv. Random Forest"
   ]
  },
  {
   "cell_type": "code",
   "execution_count": 132,
   "id": "5debb8fd",
   "metadata": {},
   "outputs": [
    {
     "name": "stdout",
     "output_type": "stream",
     "text": [
      "Classification Report: \n",
      "               precision    recall  f1-score   support\n",
      "\n",
      "       DrugY       1.00      0.63      0.78        30\n",
      "       drugA       0.62      1.00      0.77         5\n",
      "       drugB       0.60      1.00      0.75         3\n",
      "       drugC       0.67      1.00      0.80         4\n",
      "       drugX       0.82      1.00      0.90        18\n",
      "\n",
      "    accuracy                           0.82        60\n",
      "   macro avg       0.74      0.93      0.80        60\n",
      "weighted avg       0.87      0.82      0.81        60\n",
      "\n",
      "Confusion Matrix: \n",
      " [[19  3  2  2  4]\n",
      " [ 0  5  0  0  0]\n",
      " [ 0  0  3  0  0]\n",
      " [ 0  0  0  4  0]\n",
      " [ 0  0  0  0 18]]\n",
      "\n",
      "Random Forest accuracy is: 81.67%\n"
     ]
    }
   ],
   "source": [
    "rf = RandomForestClassifier(max_leaf_nodes=30)\n",
    "rf.fit(X_train, y_train)\n",
    "\n",
    "y_pred4 = rf.predict(X_test)\n",
    "\n",
    "print(\"Classification Report: \\n\", classification_report(y_test, y_pred4))\n",
    "print(\"Confusion Matrix: \\n\", confusion_matrix(y_test, y_pred4))\n",
    "\n",
    "Acc4 = accuracy_score(y_pred4,y_test)\n",
    "print('\\nRandom Forest accuracy is: {:.2f}%'.format(Acc4*100))"
   ]
  },
  {
   "cell_type": "markdown",
   "id": "3b809504",
   "metadata": {},
   "source": [
    "RF Value vs Score"
   ]
  },
  {
   "cell_type": "code",
   "execution_count": 133,
   "id": "aa076386",
   "metadata": {},
   "outputs": [
    {
     "data": {
      "image/png": "[encoded data removed]",
      "text/plain": [
       "<Figure size 432x288 with 1 Axes>"
      ]
     },
     "metadata": {},
     "output_type": "display_data"
    },
    {
     "name": "stdout",
     "output_type": "stream",
     "text": [
      "RF Acc Max 83.33%\n"
     ]
    }
   ],
   "source": [
    "scoreListRF = []\n",
    "for i in range(2,50):\n",
    "    rf = RandomForestClassifier(n_estimators = 1000, random_state = 1, max_leaf_nodes=i)\n",
    "    rf.fit(X_train, y_train)\n",
    "    scoreListRF.append(rf.score(X_test, y_test))\n",
    "    \n",
    "plt.plot(range(2,50), scoreListRF)\n",
    "plt.xticks(np.arange(2,50,5))\n",
    "plt.xlabel(\"RF Value\")\n",
    "plt.ylabel(\"Score\")\n",
    "plt.title(\"RF value vs Score\")\n",
    "plt.show()\n",
    "RFAccMax = max(scoreListRF)\n",
    "print(\"RF Acc Max {:.2f}%\".format(RFAccMax*100))"
   ]
  },
  {
   "cell_type": "markdown",
   "id": "81f3273f",
   "metadata": {},
   "source": [
    "### v. Naive Bayes"
   ]
  },
  {
   "cell_type": "markdown",
   "id": "1d264832",
   "metadata": {},
   "source": [
    "### v.1. Gaussian NB"
   ]
  },
  {
   "cell_type": "code",
   "execution_count": 134,
   "id": "4c417b68",
   "metadata": {},
   "outputs": [
    {
     "name": "stdout",
     "output_type": "stream",
     "text": [
      "Classification Report: \n",
      "               precision    recall  f1-score   support\n",
      "\n",
      "       DrugY       0.64      0.90      0.75        30\n",
      "       drugA       1.00      0.20      0.33         5\n",
      "       drugB       0.75      1.00      0.86         3\n",
      "       drugC       0.67      1.00      0.80         4\n",
      "       drugX       1.00      0.39      0.56        18\n",
      "\n",
      "    accuracy                           0.70        60\n",
      "   macro avg       0.81      0.70      0.66        60\n",
      "weighted avg       0.79      0.70      0.67        60\n",
      "\n",
      "Confusion Matrix: \n",
      " [[27  0  1  2  0]\n",
      " [ 4  1  0  0  0]\n",
      " [ 0  0  3  0  0]\n",
      " [ 0  0  0  4  0]\n",
      " [11  0  0  0  7]]\n",
      "\n",
      "Gaussian Naive Bayes accuracy is: 70.00%\n"
     ]
    }
   ],
   "source": [
    "NB_1 = GaussianNB()\n",
    "NB_1.fit(X_train, y_train)\n",
    "\n",
    "y_pred_5_1 = NB_1.predict(X_test)\n",
    "\n",
    "print(\"Classification Report: \\n\", classification_report(y_test, y_pred_5_1))\n",
    "print(\"Confusion Matrix: \\n\", confusion_matrix(y_test, y_pred_5_1))\n",
    "\n",
    "Acc_5_1 = accuracy_score(y_pred_5_1,y_test)\n",
    "print('\\nGaussian Naive Bayes accuracy is: {:.2f}%'.format(Acc_5_1*100))"
   ]
  },
  {
   "cell_type": "markdown",
   "id": "576170d8",
   "metadata": {},
   "source": [
    "### v.2. Categorical NB"
   ]
  },
  {
   "cell_type": "code",
   "execution_count": 135,
   "id": "c8235fbd",
   "metadata": {},
   "outputs": [
    {
     "name": "stdout",
     "output_type": "stream",
     "text": [
      "Classification Report: \n",
      "               precision    recall  f1-score   support\n",
      "\n",
      "       DrugY       1.00      0.70      0.82        30\n",
      "       drugA       0.71      1.00      0.83         5\n",
      "       drugB       0.75      1.00      0.86         3\n",
      "       drugC       0.67      1.00      0.80         4\n",
      "       drugX       0.82      1.00      0.90        18\n",
      "\n",
      "    accuracy                           0.85        60\n",
      "   macro avg       0.79      0.94      0.84        60\n",
      "weighted avg       0.89      0.85      0.85        60\n",
      "\n",
      "Confusion Matrix: \n",
      " [[21  2  1  2  4]\n",
      " [ 0  5  0  0  0]\n",
      " [ 0  0  3  0  0]\n",
      " [ 0  0  0  4  0]\n",
      " [ 0  0  0  0 18]]\n",
      "\n",
      "Naive Bayes accuracy is: 85.00%\n"
     ]
    }
   ],
   "source": [
    "NB_2 = CategoricalNB()\n",
    "NB_2.fit(X_train, y_train)\n",
    "\n",
    "y_pred_5_2 = NB_2.predict(X_test)\n",
    "\n",
    "print(\"Classification Report: \\n\", classification_report(y_test, y_pred_5_2))\n",
    "print(\"Confusion Matrix: \\n\", confusion_matrix(y_test, y_pred_5_2))\n",
    " \n",
    "Acc_5_2 = accuracy_score(y_pred_5_2,y_test)\n",
    "print('\\nNaive Bayes accuracy is: {:.2f}%'.format(Acc_5_2*100))"
   ]
  },
  {
   "cell_type": "markdown",
   "id": "d25a46de",
   "metadata": {},
   "source": [
    "### vi. K Neighbours"
   ]
  },
  {
   "cell_type": "code",
   "execution_count": 136,
   "id": "80e908b4",
   "metadata": {},
   "outputs": [
    {
     "name": "stdout",
     "output_type": "stream",
     "text": [
      "Classification Report: \n",
      "               precision    recall  f1-score   support\n",
      "\n",
      "       DrugY       0.84      0.70      0.76        30\n",
      "       drugA       0.57      0.80      0.67         5\n",
      "       drugB       0.50      0.67      0.57         3\n",
      "       drugC       0.33      0.25      0.29         4\n",
      "       drugX       0.81      0.94      0.87        18\n",
      "\n",
      "    accuracy                           0.75        60\n",
      "   macro avg       0.61      0.67      0.63        60\n",
      "weighted avg       0.76      0.75      0.75        60\n",
      "\n",
      "Confusion Matrix: \n",
      " [[21  2  1  2  4]\n",
      " [ 0  4  1  0  0]\n",
      " [ 0  1  2  0  0]\n",
      " [ 3  0  0  1  0]\n",
      " [ 1  0  0  0 17]]\n",
      "\n",
      "K Neighbours accuracy is: 75.00%\n"
     ]
    }
   ],
   "source": [
    "KN = KNeighborsClassifier(n_neighbors=20)\n",
    "KN.fit(X_train, y_train)\n",
    "\n",
    "y_pred_6 = KN.predict(X_test)\n",
    "\n",
    "print(\"Classification Report: \\n\", classification_report(y_test, y_pred_6))\n",
    "print(\"Confusion Matrix: \\n\", confusion_matrix(y_test, y_pred_6))\n",
    "\n",
    "Acc_6 = accuracy_score(y_pred_6,y_test)\n",
    "print('\\nK Neighbours accuracy is: {:.2f}%'.format(Acc_6*100))"
   ]
  },
  {
   "cell_type": "markdown",
   "id": "5d531e7d",
   "metadata": {},
   "source": [
    "K value vs Score"
   ]
  },
  {
   "cell_type": "code",
   "execution_count": 137,
   "id": "61266027",
   "metadata": {},
   "outputs": [
    {
     "data": {
      "image/png": "[encoded data removed]",
      "text/plain": [
       "<Figure size 432x288 with 1 Axes>"
      ]
     },
     "metadata": {},
     "output_type": "display_data"
    },
    {
     "name": "stdout",
     "output_type": "stream",
     "text": [
      "K Neighbours Acc Max 80.00%\n"
     ]
    }
   ],
   "source": [
    "scoreListknn = []\n",
    "for i in range(1,30):\n",
    "    KN = KNeighborsClassifier(n_neighbors = i)\n",
    "    KN.fit(X_train, y_train)\n",
    "    scoreListknn.append(KN.score(X_test, y_test))\n",
    "    \n",
    "plt.plot(range(1,30), scoreListknn)\n",
    "plt.xticks(np.arange(1,30,1))\n",
    "plt.xlabel(\"K value\")\n",
    "plt.ylabel(\"Score\")\n",
    "plt.title(\"K value vs Score\")\n",
    "plt.show()\n",
    "KNAccMax = max(scoreListknn)\n",
    "print(\"K Neighbours Acc Max {:.2f}%\".format(KNAccMax*100))"
   ]
  },
  {
   "cell_type": "markdown",
   "id": "eb863d57",
   "metadata": {},
   "source": [
    "### 4.4. Model Comparison "
   ]
  },
  {
   "cell_type": "code",
   "execution_count": 138,
   "id": "f00e1a29",
   "metadata": {},
   "outputs": [
    {
     "data": {
      "text/html": [
       "<div>\n",
       "<style scoped>\n",
       "    .dataframe tbody tr th:only-of-type {\n",
       "        vertical-align: middle;\n",
       "    }\n",
       "\n",
       "    .dataframe tbody tr th {\n",
       "        vertical-align: top;\n",
       "    }\n",
       "\n",
       "    .dataframe thead th {\n",
       "        text-align: right;\n",
       "    }\n",
       "</style>\n",
       "<table border=\"1\" class=\"dataframe\">\n",
       "  <thead>\n",
       "    <tr style=\"text-align: right;\">\n",
       "      <th></th>\n",
       "      <th>Model</th>\n",
       "      <th>Accuracy</th>\n",
       "    </tr>\n",
       "  </thead>\n",
       "  <tbody>\n",
       "    <tr>\n",
       "      <th>3</th>\n",
       "      <td>Logistic Regression</td>\n",
       "      <td>85.000000</td>\n",
       "    </tr>\n",
       "    <tr>\n",
       "      <th>7</th>\n",
       "      <td>Categorical NB</td>\n",
       "      <td>85.000000</td>\n",
       "    </tr>\n",
       "    <tr>\n",
       "      <th>2</th>\n",
       "      <td>SVM</td>\n",
       "      <td>83.333333</td>\n",
       "    </tr>\n",
       "    <tr>\n",
       "      <th>5</th>\n",
       "      <td>Random Forest Max</td>\n",
       "      <td>83.333333</td>\n",
       "    </tr>\n",
       "    <tr>\n",
       "      <th>4</th>\n",
       "      <td>Random Forest</td>\n",
       "      <td>81.666667</td>\n",
       "    </tr>\n",
       "    <tr>\n",
       "      <th>9</th>\n",
       "      <td>K Neighbors Max</td>\n",
       "      <td>80.000000</td>\n",
       "    </tr>\n",
       "    <tr>\n",
       "      <th>0</th>\n",
       "      <td>Decision Tree</td>\n",
       "      <td>78.333333</td>\n",
       "    </tr>\n",
       "    <tr>\n",
       "      <th>1</th>\n",
       "      <td>Decision Tree Max</td>\n",
       "      <td>78.333333</td>\n",
       "    </tr>\n",
       "    <tr>\n",
       "      <th>8</th>\n",
       "      <td>K Neighbors</td>\n",
       "      <td>75.000000</td>\n",
       "    </tr>\n",
       "    <tr>\n",
       "      <th>6</th>\n",
       "      <td>Gaussian NB</td>\n",
       "      <td>70.000000</td>\n",
       "    </tr>\n",
       "  </tbody>\n",
       "</table>\n",
       "</div>"
      ],
      "text/plain": [
       "                 Model   Accuracy\n",
       "3  Logistic Regression  85.000000\n",
       "7       Categorical NB  85.000000\n",
       "2                  SVM  83.333333\n",
       "5    Random Forest Max  83.333333\n",
       "4        Random Forest  81.666667\n",
       "9      K Neighbors Max  80.000000\n",
       "0        Decision Tree  78.333333\n",
       "1    Decision Tree Max  78.333333\n",
       "8          K Neighbors  75.000000\n",
       "6          Gaussian NB  70.000000"
      ]
     },
     "execution_count": 138,
     "metadata": {},
     "output_type": "execute_result"
    }
   ],
   "source": [
    "comparision = pd.DataFrame({'Model': ['Decision Tree', 'Decision Tree Max', 'SVM', 'Logistic Regression', 'Random Forest', 'Random Forest Max', 'Gaussian NB', 'Categorical NB', 'K Neighbors', 'K Neighbors Max'], \n",
    "                        'Accuracy': [Acc1*100, DTAccMax*100, Acc2*100, Acc3*100, Acc4*100, RFAccMax*100, Acc_5_1*100, Acc_5_2*100, Acc_6*100, KNAccMax*100]})\n",
    "comparision.sort_values(by='Accuracy', ascending=False)"
   ]
  },
  {
   "cell_type": "code",
   "execution_count": 139,
   "id": "e884e875",
   "metadata": {},
   "outputs": [
    {
     "data": {
      "image/png": "[encoded data removed]",
      "text/plain": [
       "<Figure size 432x288 with 1 Axes>"
      ]
     },
     "metadata": {},
     "output_type": "display_data"
    }
   ],
   "source": [
    "comparision.plot(x = \"Model\",y = \"Accuracy\", kind = \"barh\", title = \"Models Comparision\", color=\"red\")\n",
    "plt.legend(\"\")\n",
    "plt.savefig('Models Comparision.png', transparent=True)"
   ]
  },
  {
   "cell_type": "markdown",
   "id": "b96f02a1",
   "metadata": {},
   "source": [
    "### 4.5. Preparing the output format"
   ]
  },
  {
   "cell_type": "code",
   "execution_count": 140,
   "id": "e4ed762e",
   "metadata": {},
   "outputs": [],
   "source": [
    "pred_lr = NB_2.predict(X_test)\n",
    "pred = pd.DataFrame({'Sex_F': X_test.loc[:,\"Sex_F\"], \n",
    "                           'Sex_M': X_test.loc[:,\"Sex_M\"], \n",
    "                           'BP_HIGH': X_test.loc[:,\"BP_HIGH\"], \n",
    "                           'BP_LOW': X_test.loc[:,\"BP_LOW\"],\n",
    "                           'BP_NORMAL': X_test.loc[:,\"BP_NORMAL\"],\n",
    "                           'Cholesterol_HIGH': X_test.loc[:,\"Cholesterol_HIGH\"],\n",
    "                           'Cholesterol_NORMAL': X_test.loc[:,\"Cholesterol_NORMAL\"],\n",
    "                           'Age_binned_<20s': X_test.loc[:,\"Age_binned_<20s\"],\n",
    "                           'Age_binned_20s': X_test.loc[:,\"Age_binned_20s\"],\n",
    "                           'Age_binned_30s': X_test.loc[:,\"Age_binned_30s\"],\n",
    "                           'Age_binned_40s': X_test.loc[:,\"Age_binned_40s\"],\n",
    "                           'Age_binned_50s': X_test.loc[:,\"Age_binned_50s\"],\n",
    "                           'Age_binned_60s': X_test.loc[:,\"Age_binned_60s\"],\n",
    "                           'Age_binned_>70s': X_test.loc[:,\"Age_binned_>70s\"],\n",
    "                           'Na_to_K_binned_<10': X_test.loc[:,\"Na_to_K_binned_<10\"],\n",
    "                           'Na_to_K_binned_10-20': X_test.loc[:,\"Na_to_K_binned_10-20\"],\n",
    "                           'Na_to_K_binned_20-30': X_test.loc[:,\"Na_to_K_binned_20-30\"],\n",
    "                           'Na_to_K_binned_>30': X_test.loc[:,\"Na_to_K_binned_>30\"],'DrugType': pred_lr})\n",
    "\n",
    "pred['Sex_F'] = pred['Sex_F'].replace([1, 0],['Female', 'Male'])\n",
    "pred['BP_HIGH'] = pred['BP_HIGH'].replace([1, 0],['High',''])\n",
    "pred['BP_LOW'] = pred['BP_LOW'].replace([1, 0],['Low', ''])\n",
    "pred['BP_NORMAL'] = pred['BP_NORMAL'].replace([1, 0],['Normal', ''])\n",
    "\n",
    "pred['BP_HIGH'] = np.where((pred['BP_HIGH'] == ''), pred['BP_LOW'], pred['BP_HIGH'])\n",
    "pred['BP_HIGH'] = np.where((pred['BP_HIGH'] == ''), pred['BP_NORMAL'], pred['BP_HIGH'])\n",
    "\n",
    "pred['Cholesterol_HIGH'] = pred['Cholesterol_HIGH'].replace([1, 0],['High', 'Normal'])\n",
    "\n",
    "pred['Age_binned_<20s'] = pred['Age_binned_<20s'].replace([1, 0],['<20s',''])\n",
    "pred['Age_binned_20s'] = pred['Age_binned_20s'].replace([1, 0],['20s',''])\n",
    "pred['Age_binned_30s'] = pred['Age_binned_30s'].replace([1, 0],['30s',''])\n",
    "pred['Age_binned_40s'] = pred['Age_binned_40s'].replace([1, 0],['40s',''])\n",
    "pred['Age_binned_50s'] = pred['Age_binned_50s'].replace([1, 0],['50s',''])\n",
    "pred['Age_binned_60s'] = pred['Age_binned_60s'].replace([1, 0],['60s',''])\n",
    "pred['Age_binned_>70s'] = pred['Age_binned_>70s'].replace([1, 0],['>70s',''])\n",
    "\n",
    "pred['Age_binned_<20s'] = np.where((pred['Age_binned_<20s'] == ''), pred['Age_binned_20s'], pred['Age_binned_<20s'])\n",
    "pred['Age_binned_<20s'] = np.where((pred['Age_binned_<20s'] == ''), pred['Age_binned_30s'], pred['Age_binned_<20s'])\n",
    "pred['Age_binned_<20s'] = np.where((pred['Age_binned_<20s'] == ''), pred['Age_binned_40s'], pred['Age_binned_<20s'])\n",
    "pred['Age_binned_<20s'] = np.where((pred['Age_binned_<20s'] == ''), pred['Age_binned_50s'], pred['Age_binned_<20s'])\n",
    "pred['Age_binned_<20s'] = np.where((pred['Age_binned_<20s'] == ''), pred['Age_binned_60s'], pred['Age_binned_<20s'])\n",
    "pred['Age_binned_<20s'] = np.where((pred['Age_binned_<20s'] == ''), pred['Age_binned_>70s'], pred['Age_binned_<20s'])\n",
    "\n",
    "pred['Na_to_K_binned_<10'] = pred['Na_to_K_binned_<10'].replace([1, 0],['<10',''])\n",
    "pred['Na_to_K_binned_10-20'] = pred['Na_to_K_binned_10-20'].replace([1, 0],['10-20',''])\n",
    "pred['Na_to_K_binned_20-30'] = pred['Na_to_K_binned_20-30'].replace([1, 0],['20-30',''])\n",
    "pred['Na_to_K_binned_>30'] = pred['Na_to_K_binned_>30'].replace([1, 0],['>30s',''])\n",
    "\n",
    "pred['Na_to_K_binned_<10'] = np.where((pred['Na_to_K_binned_<10'] == ''), pred['Na_to_K_binned_10-20'], pred['Na_to_K_binned_<10'])\n",
    "pred['Na_to_K_binned_<10'] = np.where((pred['Na_to_K_binned_<10'] == ''), pred['Na_to_K_binned_20-30'], pred['Na_to_K_binned_<10'])\n",
    "pred['Na_to_K_binned_<10'] = np.where((pred['Na_to_K_binned_<10'] == ''), pred['Na_to_K_binned_>30'], pred['Na_to_K_binned_<10'])\n",
    "\n",
    "pred = pred.drop(['Sex_M', 'BP_LOW', 'BP_NORMAL', 'Cholesterol_NORMAL', 'Age_binned_20s', 'Age_binned_30s',\n",
    "                 'Age_binned_40s', 'Age_binned_50s', 'Age_binned_60s', 'Age_binned_>70s',\n",
    "                'Na_to_K_binned_10-20', 'Na_to_K_binned_20-30', 'Na_to_K_binned_>30'], axis = 1)\n",
    "\n",
    "new_name = {'Sex_F': 'Sex', 'BP_HIGH': 'BP', 'Cholesterol_HIGH': 'Cholesterol', 'Age_binned_<20s': 'Age_binned',\n",
    "          'Na_to_K_binned_<10': 'Na_to_K_binned'}\n",
    "pred.rename(columns=new_name, inplace=True)"
   ]
  },
  {
   "cell_type": "markdown",
   "id": "73ebe15d",
   "metadata": {},
   "source": [
    "### 4.6. Saving the output in a CSV file"
   ]
  },
  {
   "cell_type": "code",
   "execution_count": 141,
   "id": "e9ea0d75",
   "metadata": {},
   "outputs": [
    {
     "data": {
      "text/html": [
       "<div>\n",
       "<style scoped>\n",
       "    .dataframe tbody tr th:only-of-type {\n",
       "        vertical-align: middle;\n",
       "    }\n",
       "\n",
       "    .dataframe tbody tr th {\n",
       "        vertical-align: top;\n",
       "    }\n",
       "\n",
       "    .dataframe thead th {\n",
       "        text-align: right;\n",
       "    }\n",
       "</style>\n",
       "<table border=\"1\" class=\"dataframe\">\n",
       "  <thead>\n",
       "    <tr style=\"text-align: right;\">\n",
       "      <th></th>\n",
       "      <th>Sex</th>\n",
       "      <th>BP</th>\n",
       "      <th>Cholesterol</th>\n",
       "      <th>Age_binned</th>\n",
       "      <th>Na_to_K_binned</th>\n",
       "      <th>DrugType</th>\n",
       "    </tr>\n",
       "  </thead>\n",
       "  <tbody>\n",
       "    <tr>\n",
       "      <th>0</th>\n",
       "      <td>Male</td>\n",
       "      <td>Low</td>\n",
       "      <td>High</td>\n",
       "      <td>20s</td>\n",
       "      <td>&lt;10</td>\n",
       "      <td>drugC</td>\n",
       "    </tr>\n",
       "    <tr>\n",
       "      <th>1</th>\n",
       "      <td>Female</td>\n",
       "      <td>Normal</td>\n",
       "      <td>High</td>\n",
       "      <td>20s</td>\n",
       "      <td>10-20</td>\n",
       "      <td>drugX</td>\n",
       "    </tr>\n",
       "    <tr>\n",
       "      <th>2</th>\n",
       "      <td>Male</td>\n",
       "      <td>Low</td>\n",
       "      <td>High</td>\n",
       "      <td>40s</td>\n",
       "      <td>20-30</td>\n",
       "      <td>DrugY</td>\n",
       "    </tr>\n",
       "    <tr>\n",
       "      <th>3</th>\n",
       "      <td>Male</td>\n",
       "      <td>High</td>\n",
       "      <td>Normal</td>\n",
       "      <td>20s</td>\n",
       "      <td>&gt;30s</td>\n",
       "      <td>DrugY</td>\n",
       "    </tr>\n",
       "    <tr>\n",
       "      <th>4</th>\n",
       "      <td>Male</td>\n",
       "      <td>Normal</td>\n",
       "      <td>High</td>\n",
       "      <td>20s</td>\n",
       "      <td>20-30</td>\n",
       "      <td>DrugY</td>\n",
       "    </tr>\n",
       "  </tbody>\n",
       "</table>\n",
       "</div>"
      ],
      "text/plain": [
       "      Sex      BP Cholesterol Age_binned Na_to_K_binned DrugType\n",
       "0    Male     Low        High        20s            <10    drugC\n",
       "1  Female  Normal        High        20s          10-20    drugX\n",
       "2    Male     Low        High        40s          20-30    DrugY\n",
       "3    Male    High      Normal        20s           >30s    DrugY\n",
       "4    Male  Normal        High        20s          20-30    DrugY"
      ]
     },
     "execution_count": 141,
     "metadata": {},
     "output_type": "execute_result"
    }
   ],
   "source": [
    "pred.to_csv('prediction.csv', index=False)\n",
    "pred = pd.read_csv('./prediction.csv')\n",
    "pred.head()"
   ]
  }
 ],
 "metadata": {
  "kernelspec": {
   "display_name": "Python 3 (ipykernel)",
   "language": "python",
   "name": "python3"
  },
  "language_info": {
   "codemirror_mode": {
    "name": "ipython",
    "version": 3
   },
   "file_extension": ".py",
   "mimetype": "text/x-python",
   "name": "python",
   "nbconvert_exporter": "python",
   "pygments_lexer": "ipython3",
   "version": "3.9.7"
  }
 },
 "nbformat": 4,
 "nbformat_minor": 5
}
